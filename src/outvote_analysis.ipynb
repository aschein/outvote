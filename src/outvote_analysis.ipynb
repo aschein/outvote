{
 "cells": [
  {
   "cell_type": "code",
   "execution_count": 34,
   "metadata": {},
   "outputs": [],
   "source": [
    "import pandas as pd\n",
    "import numpy as np\n",
    "import numpy.random as rn\n",
    "import scipy.stats as st\n",
    "import matplotlib.pyplot as plt\n",
    "import seaborn as sns\n",
    "import sklearn as sk\n",
    "\n",
    "from sklearn.preprocessing import OneHotEncoder\n",
    "import statsmodels.api as sm\n",
    "from statsmodels.sandbox.regression.gmm import IV2SLS"
   ]
  },
  {
   "cell_type": "code",
   "execution_count": 39,
   "metadata": {},
   "outputs": [],
   "source": [
    "def ITT_OLS(Y_N, Z_N, X_NM=None):\n",
    "    \"\"\"Intent-to-Treat (ITT) effect using ordinary least squares (OLS).\n",
    "    \n",
    "    Y_N:  Binary outcome.\n",
    "    Z_N:  Binary instrument/assignment.\n",
    "    X_NM: (Optional) Covariates.\n",
    "    \n",
    "    Returns:\n",
    "        estimate, standard error \n",
    "    \"\"\"\n",
    "    Y_N = Y_N.astype(int)\n",
    "    Z_N = Z_N.astype(int)\n",
    "    ZX_NM = Z_N if X_NM is None else np.vstack((Z_N, X_NM.T)).T\n",
    "    model = sm.OLS(Y_N, sm.add_constant(ZX_NM, prepend=False))\n",
    "    results = model.fit()\n",
    "    \n",
    "    itt = results.params[0] * 100\n",
    "    se = results.bse[0] * 100\n",
    "    return itt, se\n",
    "\n",
    "def CACE_2SLS(Y_N, Z_N, D_N, X_NM=None):\n",
    "    \"\"\"Compiler Average Causal Effect (CACE) effect\n",
    "    estimated using 2-stage least squares (2SLS).\n",
    "    \n",
    "    Y_N:  Binary outcome.\n",
    "    Z_N:  Binary instrument/assignment.\n",
    "    D_N:  Binary treatment receipt.\n",
    "    X_NM: (Optional) Covariates.\n",
    "    \n",
    "    Returns:\n",
    "        estimate, standard error \n",
    "    \"\"\"\n",
    "\n",
    "    Y_N = Y_N.astype(int)\n",
    "    Z_N = Z_N.astype(int)\n",
    "    D_N = D_N.astype(int)\n",
    "    \n",
    "    DX_NM = D_N if X_NM is None else np.vstack((D_N, X_NM.T)).T\n",
    "    ZX_NM = Z_N if X_NM is None else np.vstack((Z_N, X_NM.T)).T\n",
    "    \n",
    "    model = IV2SLS(endog=Y_N,\n",
    "                   exog=sm.add_constant(DX_NM, prepend=False),\n",
    "                   instrument=sm.add_constant(ZX_NM, prepend=False))\n",
    "\n",
    "    results = model.fit()\n",
    "    cace = results.params[0] * 100\n",
    "    se = results.bse[0] * 100\n",
    "    return cace, se"
   ]
  },
  {
   "cell_type": "code",
   "execution_count": 45,
   "metadata": {},
   "outputs": [
    {
     "name": "stdout",
     "output_type": "stream",
     "text": [
      "n=195,118 eligible subjects\n",
      "94.91% of subjects assigned to receive treatment\n",
      "16.41% compliance rate in eligible subject pool\n",
      "28.78% of subjects are confidently matched\n",
      "59.63% of subjects have non-null queue position\n",
      "ITT=0.40 (SE=0.47) percentage points\n",
      "CACE=2.42 (SE=2.84) percentage points\n"
     ]
    }
   ],
   "source": [
    "df_data = pd.read_csv('../dat/outvote_data.csv')\n",
    "\n",
    "n = len(df_data)\n",
    "print('n=%s eligible subjects' % f'{n:,}')\n",
    "\n",
    "Z = df_data['Z'].to_numpy()  # assignment (1='assigned treatment', 0='assigned control')\n",
    "D = df_data['D'].to_numpy()  # treatment receipt (1='messaged', 0='not messaged')\n",
    "Y = df_data['Y'].to_numpy()  # voting outcome (1='voted', 0='did not vote')\n",
    "M = df_data['M'].to_numpy()  # confident match to voter rolls (1='yes', 0='no')\n",
    "Q = df_data['Q'].to_numpy()  # position in first queue (1,2,3... or NaN)\n",
    "\n",
    "assign_rate = 100 * Z.mean()\n",
    "print('%.2f%% of subjects assigned to receive treatment' % (assign_rate))\n",
    "\n",
    "comply_rate = 100 * (D[Z==1].mean() - D[Z==0].mean())\n",
    "print('%.2f%% compliance rate in eligible subject pool' % comply_rate)\n",
    "\n",
    "good_match_rate = 100 * M.mean() \n",
    "print('%.2f%% of subjects are confidently matched' % good_match_rate)\n",
    "\n",
    "nonnull_queue_rate = 100 * (1-np.isnan(Q).mean())\n",
    "print('%.2f%% of subjects have non-null queue position' % nonnull_queue_rate)\n",
    "\n",
    "itt, itt_se = ITT_OLS(Y, Z)\n",
    "print('ITT=%.2f (SE=%.2f) percentage points' % (itt, itt_se))\n",
    "\n",
    "cace, cace_se = CACE_2SLS(Y, Z, D)\n",
    "print('CACE=%.2f (SE=%.2f) percentage points' % (cace, cace_se))"
   ]
  },
  {
   "cell_type": "code",
   "execution_count": 46,
   "metadata": {},
   "outputs": [
    {
     "name": "stdout",
     "output_type": "stream",
     "text": [
      "ITT=3.02 (SE=1.10) percentage points\n",
      "CACE=11.88 (SE=4.37) percentage points\n"
     ]
    }
   ],
   "source": [
    "df_study = df_data.loc[(df_data['M'] == 1) &   # only confidently matched\n",
    "                       (df_data['Q'] <= 103)]  # queue position <= q_max=103\n",
    "\n",
    "Z = df_study['Z'].to_numpy()  # assignment (1='assigned treatment', 0='assigned control')\n",
    "D = df_study['D'].to_numpy()  # treatment receipt (1='messaged', 0='not messaged')\n",
    "Y = df_study['Y'].to_numpy()  # voting outcome (1='voted', 0='did not vote')\n",
    "\n",
    "itt, itt_se = ITT_OLS(Y, Z)\n",
    "print('ITT=%.2f (SE=%.2f) percentage points' % (itt, itt_se))\n",
    "\n",
    "cace, cace_se = CACE_2SLS(Y, Z, D)\n",
    "print('CACE=%.2f (SE=%.2f) percentage points' % (cace, cace_se))"
   ]
  },
  {
   "cell_type": "code",
   "execution_count": 28,
   "metadata": {},
   "outputs": [
    {
     "data": {
      "text/plain": [
       "array([  0,   0,   0, ..., 100, 100,   0])"
      ]
     },
     "execution_count": 28,
     "metadata": {},
     "output_type": "execute_result"
    }
   ],
   "source": [
    "queue_nan_rate"
   ]
  },
  {
   "cell_type": "code",
   "execution_count": null,
   "metadata": {},
   "outputs": [],
   "source": []
  }
 ],
 "metadata": {
  "kernelspec": {
   "display_name": "Python 3",
   "language": "python",
   "name": "python3"
  },
  "language_info": {
   "codemirror_mode": {
    "name": "ipython",
    "version": 3
   },
   "file_extension": ".py",
   "mimetype": "text/x-python",
   "name": "python",
   "nbconvert_exporter": "python",
   "pygments_lexer": "ipython3",
   "version": "3.7.4"
  }
 },
 "nbformat": 4,
 "nbformat_minor": 2
}
